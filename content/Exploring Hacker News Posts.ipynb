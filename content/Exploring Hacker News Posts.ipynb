{
 "cells": [
  {
   "cell_type": "markdown",
   "metadata": {
    "collapsed": true
   },
   "source": [
    "# Hacker News - Ask vs Show\n",
    "This notebook runs through the HN public data and provides analyse on whether ASK HN or SHOW HK posts receive more responses."
   ]
  },
  {
   "cell_type": "code",
   "execution_count": 11,
   "metadata": {
    "collapsed": true
   },
   "outputs": [],
   "source": [
    "from csv import reader\n",
    "import datetime as dt"
   ]
  },
  {
   "cell_type": "code",
   "execution_count": 12,
   "metadata": {
    "collapsed": true
   },
   "outputs": [],
   "source": [
    "file = open('hacker_news.csv')\n",
    "filereader = reader(file)\n",
    "hn = list(filereader)"
   ]
  },
  {
   "cell_type": "code",
   "execution_count": 13,
   "metadata": {
    "collapsed": false
   },
   "outputs": [
    {
     "name": "stdout",
     "output_type": "stream",
     "text": [
      "['id', 'title', 'url', 'num_points', 'num_comments', 'author', 'created_at']\n"
     ]
    }
   ],
   "source": [
    "headers = hn[0]\n",
    "hn = hn[1:]\n",
    "print(headers)"
   ]
  },
  {
   "cell_type": "code",
   "execution_count": 14,
   "metadata": {
    "collapsed": false
   },
   "outputs": [
    {
     "name": "stdout",
     "output_type": "stream",
     "text": [
      "[['12224879', 'Interactive Dynamic Video', 'http://www.interactivedynamicvideo.com/', '386', '52', 'ne0phyte', '8/4/2016 11:52'], ['10975351', 'How to Use Open Source and Shut the Fuck Up at the Same Time', 'http://hueniverse.com/2016/01/26/how-to-use-open-source-and-shut-the-fuck-up-at-the-same-time/', '39', '10', 'josep2', '1/26/2016 19:30'], ['11964716', \"Florida DJs May Face Felony for April Fools' Water Joke\", 'http://www.thewire.com/entertainment/2013/04/florida-djs-april-fools-water-joke/63798/', '2', '1', 'vezycash', '6/23/2016 22:20'], ['11919867', 'Technology ventures: From Idea to Enterprise', 'https://www.amazon.com/Technology-Ventures-Enterprise-Thomas-Byers/dp/0073523429', '3', '1', 'hswarna', '6/17/2016 0:01']]\n"
     ]
    }
   ],
   "source": [
    "print(hn[:4])"
   ]
  },
  {
   "cell_type": "code",
   "execution_count": 15,
   "metadata": {
    "collapsed": false
   },
   "outputs": [
    {
     "name": "stdout",
     "output_type": "stream",
     "text": [
      "ask_posts:  1744  show_posts:  1162  other_posts:  17194\n"
     ]
    }
   ],
   "source": [
    "ask_posts = []\n",
    "show_posts = []\n",
    "other_posts = []\n",
    "\n",
    "for row in hn:\n",
    "    if row[1].lower().startswith('ask hn'):\n",
    "        ask_posts.append(row)\n",
    "    elif row[1].lower().startswith('show hn'):\n",
    "        show_posts.append(row)\n",
    "    else:\n",
    "        other_posts.append(row)\n",
    "        \n",
    "print('ask_posts: ',len(ask_posts), ' show_posts: ', len(show_posts), ' other_posts: ', len(other_posts))\n"
   ]
  },
  {
   "cell_type": "code",
   "execution_count": 16,
   "metadata": {
    "collapsed": false
   },
   "outputs": [
    {
     "name": "stdout",
     "output_type": "stream",
     "text": [
      "14.038417431192661\n",
      "10.31669535283993\n"
     ]
    }
   ],
   "source": [
    "total_ask_comments = 0\n",
    "\n",
    "for q in ask_posts:\n",
    "    total_ask_comments += int(q[4])\n",
    "    \n",
    "avg_ask_comments = total_ask_comments / len(ask_posts)\n",
    "print(avg_ask_comments)\n",
    "\n",
    "total_show_comments = 0\n",
    "for s in show_posts:\n",
    "    total_show_comments += int(s[4])\n",
    "    \n",
    "avg_show_comments = total_show_comments / len(show_posts)\n",
    "print(avg_show_comments)\n"
   ]
  },
  {
   "cell_type": "markdown",
   "metadata": {},
   "source": [
    "### Analysis Thought\n",
    "It would appear that Ask HN receives more interactions with the viewer base then Show HN does.\n",
    "This is ontop of the fact there are a larger number of Ask HN posts compared to Show HN posts."
   ]
  },
  {
   "cell_type": "markdown",
   "metadata": {
    "collapsed": true
   },
   "source": [
    "# Which hour was content created for the highest comment posts?\n",
    "This next section produces a frequency table of the hour content was created on Ask HN posts. This shows us the best time to post your content to rapidly get maximum reponses as fast as possible and move up in the \"hot lists\" etc."
   ]
  },
  {
   "cell_type": "code",
   "execution_count": 17,
   "metadata": {
    "collapsed": false
   },
   "outputs": [],
   "source": [
    "result_list = []\n",
    "for post in ask_posts:\n",
    "    result_list.append([int(post[4]), post[6]])"
   ]
  },
  {
   "cell_type": "code",
   "execution_count": 49,
   "metadata": {
    "collapsed": false
   },
   "outputs": [],
   "source": [
    "counts_by_hour, comments_by_hour = {},{}\n",
    "dtformat = '%m/%d/%Y %H:%M'\n",
    "\n",
    "for r in result_list:\n",
    "    d = dt.datetime.strptime(r[1], dtformat).hour\n",
    "    \n",
    "    if d in counts_by_hour:\n",
    "        counts_by_hour[d] += 1\n",
    "    else:\n",
    "        counts_by_hour[d] = 1\n",
    "        \n",
    "    if d in comments_by_hour:\n",
    "        comments_by_hour[d] += r[0]\n",
    "    else:\n",
    "        comments_by_hour[d] = r[0]"
   ]
  },
  {
   "cell_type": "markdown",
   "metadata": {},
   "source": [
    "Now we are looking for the average number of comments per post, at each hour of the day"
   ]
  },
  {
   "cell_type": "code",
   "execution_count": 62,
   "metadata": {
    "collapsed": false
   },
   "outputs": [
    {
     "name": "stdout",
     "output_type": "stream",
     "text": [
      "Hour 0 :  447  /  55  =  8.127272727272727\n",
      "Hour 1 :  683  /  60  =  11.383333333333333\n",
      "Hour 2 :  1381  /  58  =  23.810344827586206\n",
      "Hour 3 :  421  /  54  =  7.796296296296297\n",
      "Hour 4 :  337  /  47  =  7.170212765957447\n",
      "Hour 5 :  464  /  46  =  10.08695652173913\n",
      "Hour 6 :  397  /  44  =  9.022727272727273\n",
      "Hour 7 :  267  /  34  =  7.852941176470588\n",
      "Hour 8 :  492  /  48  =  10.25\n",
      "Hour 9 :  251  /  45  =  5.5777777777777775\n",
      "Hour 10 :  793  /  59  =  13.440677966101696\n",
      "Hour 11 :  641  /  58  =  11.051724137931034\n",
      "Hour 12 :  687  /  73  =  9.41095890410959\n",
      "Hour 13 :  1253  /  85  =  14.741176470588234\n",
      "Hour 14 :  1416  /  107  =  13.233644859813085\n",
      "Hour 15 :  4477  /  116  =  38.5948275862069\n",
      "Hour 16 :  1814  /  108  =  16.796296296296298\n",
      "Hour 17 :  1146  /  100  =  11.46\n",
      "Hour 18 :  1439  /  109  =  13.20183486238532\n",
      "Hour 19 :  1188  /  110  =  10.8\n",
      "Hour 20 :  1722  /  80  =  21.525\n",
      "Hour 21 :  1745  /  109  =  16.009174311926607\n",
      "Hour 22 :  479  /  71  =  6.746478873239437\n",
      "Hour 23 :  543  /  68  =  7.985294117647059\n"
     ]
    }
   ],
   "source": [
    "avg_by_hour = []\n",
    "\n",
    "for h in counts_by_hour:\n",
    "    print('Hour', h, ': ', comments_by_hour[h], ' / ', counts_by_hour[h], ' = ', comments_by_hour[h] / counts_by_hour[h])\n",
    "    avg_by_hour.append([h, comments_by_hour[h] / counts_by_hour[h]])    "
   ]
  },
  {
   "cell_type": "code",
   "execution_count": 63,
   "metadata": {
    "collapsed": false
   },
   "outputs": [],
   "source": [
    "swap_avg_by_hour = []\n",
    "\n",
    "for hour in avg_by_hour:\n",
    "    swap_avg_by_hour.append([hour[1],hour[0]])"
   ]
  },
  {
   "cell_type": "code",
   "execution_count": 66,
   "metadata": {
    "collapsed": false
   },
   "outputs": [],
   "source": [
    "sorted_swap = sorted(swap_avg_by_hour, reverse = True)"
   ]
  },
  {
   "cell_type": "code",
   "execution_count": 78,
   "metadata": {
    "collapsed": false
   },
   "outputs": [
    {
     "name": "stdout",
     "output_type": "stream",
     "text": [
      "Top 5 Hours for Ask Posts Comments\n",
      "15:00: 38.59 average comments per post\n",
      "02:00: 23.81 average comments per post\n",
      "20:00: 21.52 average comments per post\n",
      "16:00: 16.80 average comments per post\n",
      "21:00: 16.01 average comments per post\n"
     ]
    }
   ],
   "source": [
    "print(\"Top 5 Hours for Ask Posts Comments\")\n",
    "for p in sorted_swap[:5]:\n",
    "    template = '{h}: {avg:.2f} average comments per post'\n",
    "    print(template.format(h = dt.datetime.strptime(str(p[1]), \"%H\").strftime(\"%H:%M\"), avg = p[0]))"
   ]
  },
  {
   "cell_type": "code",
   "execution_count": null,
   "metadata": {
    "collapsed": true
   },
   "outputs": [],
   "source": []
  }
 ],
 "metadata": {
  "kernelspec": {
   "display_name": "Python 3",
   "language": "python",
   "name": "python3"
  },
  "language_info": {
   "codemirror_mode": {
    "name": "ipython",
    "version": 3
   },
   "file_extension": ".py",
   "mimetype": "text/x-python",
   "name": "python",
   "nbconvert_exporter": "python",
   "pygments_lexer": "ipython3",
   "version": "3.4.3"
  }
 },
 "nbformat": 4,
 "nbformat_minor": 2
}
