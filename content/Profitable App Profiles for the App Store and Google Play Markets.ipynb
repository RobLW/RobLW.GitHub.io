{
 "cells": [
  {
   "cell_type": "markdown",
   "metadata": {
    "collapsed": true
   },
   "source": [
    "# Revenue via in-app advertisement\n",
    "This notebook demonstrates the profitability of in-app advertisement for our free-to-download applications on Google Play and the App Store."
   ]
  },
  {
   "cell_type": "code",
   "execution_count": 1,
   "metadata": {
    "collapsed": false
   },
   "outputs": [],
   "source": [
    "def explore_data(dataset, start, end, rows_and_columns=False):\n",
    "    dataset_slice = dataset[start:end]\n",
    "    for row in dataset_slice:\n",
    "        print(row)\n",
    "        print('\\n') # adds a new (empty) line after each row\n",
    "        \n",
    "        if rows_and_columns:\n",
    "            print('Number of rows:', len(dataset))\n",
    "            print('Number of columns;', len(dataset[0]))\n",
    "            "
   ]
  },
  {
   "cell_type": "code",
   "execution_count": 2,
   "metadata": {
    "collapsed": true
   },
   "outputs": [],
   "source": [
    "from csv import reader"
   ]
  },
  {
   "cell_type": "code",
   "execution_count": 3,
   "metadata": {
    "collapsed": false
   },
   "outputs": [],
   "source": [
    "afile = open('AppleStore.csv')\n",
    "gfile = open('googleplaystore.csv')\n",
    "aread = reader(afile)\n",
    "gread = reader(gfile)\n",
    "appleDS = list(aread)\n",
    "googleDS = list(gread)"
   ]
  },
  {
   "cell_type": "markdown",
   "metadata": {},
   "source": [
    "# Exploring the data to see how we can clean and use it"
   ]
  },
  {
   "cell_type": "markdown",
   "metadata": {},
   "source": [
    "To help identify which apps/games are gaining a large audience we can use the following columns.\n",
    "\n",
    "| Column Name | Description |\n",
    "|-------------|-------------|\n",
    "| Size_bytes | does size of app impact preferences |\n",
    "| price | Allows us to find the free apps as this is all we make |\n",
    "| rating_count_tot|how many people have rated the app/game |\n",
    "|prime_genre| if we want to look at grouping data by category|\n",
    "|user_rating| to help us identify the highest rated apps/games|\n",
    "\n"
   ]
  },
  {
   "cell_type": "code",
   "execution_count": 4,
   "metadata": {
    "collapsed": false
   },
   "outputs": [
    {
     "name": "stdout",
     "output_type": "stream",
     "text": [
      "['id', 'track_name', 'size_bytes', 'currency', 'price', 'rating_count_tot', 'rating_count_ver', 'user_rating', 'user_rating_ver', 'ver', 'cont_rating', 'prime_genre', 'sup_devices.num', 'ipadSc_urls.num', 'lang.num', 'vpp_lic']\n",
      "\n",
      "\n",
      "Number of rows: 7198\n",
      "Number of columns; 16\n"
     ]
    }
   ],
   "source": [
    "explore_data(appleDS,0,1,True)"
   ]
  },
  {
   "cell_type": "code",
   "execution_count": 5,
   "metadata": {
    "collapsed": false
   },
   "outputs": [
    {
     "name": "stdout",
     "output_type": "stream",
     "text": [
      "['App', 'Category', 'Rating', 'Reviews', 'Size', 'Installs', 'Type', 'Price', 'Content Rating', 'Genres', 'Last Updated', 'Current Ver', 'Android Ver']\n",
      "\n",
      "\n",
      "Number of rows: 10842\n",
      "Number of columns; 13\n"
     ]
    }
   ],
   "source": [
    "explore_data(googleDS,0,1,True)"
   ]
  },
  {
   "cell_type": "code",
   "execution_count": 6,
   "metadata": {
    "collapsed": false
   },
   "outputs": [
    {
     "name": "stdout",
     "output_type": "stream",
     "text": [
      "['Xposed Wi-Fi-Pwd', 'PERSONALIZATION', '3.5', '1042', '404k', '100,000+', 'Free', '0', 'Everyone', 'Personalization', 'August 5, 2014', '3.0.0', '4.0.3 and up']\n",
      "\n",
      "\n",
      "['Life Made WI-Fi Touchscreen Photo Frame', '1.9', '19', '3.0M', '1,000+', 'Free', '0', 'Everyone', '', 'February 11, 2018', '1.0.19', '4.0 and up']\n",
      "\n",
      "\n"
     ]
    }
   ],
   "source": [
    "explore_data(googleDS,10472,10474)"
   ]
  },
  {
   "cell_type": "code",
   "execution_count": 7,
   "metadata": {
    "collapsed": true
   },
   "outputs": [],
   "source": [
    "apple_cols = appleDS[0]\n",
    "google_cols = googleDS[0]"
   ]
  },
  {
   "cell_type": "markdown",
   "metadata": {},
   "source": [
    "# Data cleaning"
   ]
  },
  {
   "cell_type": "code",
   "execution_count": 8,
   "metadata": {
    "collapsed": true
   },
   "outputs": [],
   "source": [
    "# This data was wrong. Lets remove it\n",
    "# del googleDS[10473]"
   ]
  },
  {
   "cell_type": "markdown",
   "metadata": {},
   "source": [
    "#### Find duplicate applications by name.\n",
    "There are cases where we have duplicate applications listed, the main difference between them being the number of user ratings. We will keep the row with the highest user rating and delete the others"
   ]
  },
  {
   "cell_type": "code",
   "execution_count": 9,
   "metadata": {
    "collapsed": false
   },
   "outputs": [
    {
     "name": "stdout",
     "output_type": "stream",
     "text": [
      "['Facebook', 'SOCIAL', '4.1', '78158306', 'Varies with device', '1,000,000,000+', 'Free', '0', 'Teen', 'Social', 'August 3, 2018', 'Varies with device', 'Varies with device'] \n",
      "\n",
      "['Facebook', 'SOCIAL', '4.1', '78128208', 'Varies with device', '1,000,000,000+', 'Free', '0', 'Teen', 'Social', 'August 3, 2018', 'Varies with device', 'Varies with device'] \n",
      "\n"
     ]
    }
   ],
   "source": [
    "# Example showing Facebook is duplicated\n",
    "for each in googleDS:\n",
    "    if each[0] == 'Facebook':\n",
    "        print(each,'\\n')"
   ]
  },
  {
   "cell_type": "code",
   "execution_count": 10,
   "metadata": {
    "collapsed": false
   },
   "outputs": [],
   "source": [
    "duplicates = {}\n",
    "unique = []\n",
    "\n",
    "\n",
    "for app in googleDS[1:]:\n",
    "    name = app[0]\n",
    "    reviews = app[3]\n",
    "    if name in unique:\n",
    "        if name in duplicates:\n",
    "            if float(reviews) > duplicates[name]: #new highest rating\n",
    "                duplicates[name] = float(reviews)\n",
    "\n",
    "        else: #add to dictionary\n",
    "            duplicates[name] = float(reviews)\n",
    "    else:\n",
    "        unique.append(name)"
   ]
  },
  {
   "cell_type": "code",
   "execution_count": 11,
   "metadata": {
    "collapsed": true
   },
   "outputs": [],
   "source": [
    "apple_duplicates = {}\n",
    "apple_unique = []\n",
    "\n",
    "\n",
    "for app in appleDS[1:]:\n",
    "    name = app[1]\n",
    "    reviews = app[5]\n",
    "    if name in apple_unique:\n",
    "        if name in apple_duplicates:\n",
    "            if float(reviews) > apple_duplicates[name]: #new highest rating\n",
    "                apple_duplicates[name] = float(reviews)\n",
    "\n",
    "        else: #add to dictionary\n",
    "            apple_duplicates[name] = float(reviews)\n",
    "    else:\n",
    "        apple_unique.append(name)"
   ]
  },
  {
   "cell_type": "code",
   "execution_count": 12,
   "metadata": {
    "collapsed": false
   },
   "outputs": [
    {
     "name": "stdout",
     "output_type": "stream",
     "text": [
      "Number of google duplicate apps:  798\n",
      "\n",
      "\n",
      "Exmaples of google duplicate apps: \n",
      "10 Best Foods for You\n",
      "1800 Contacts - Lens Store\n",
      "2017 EMRA Antibiotic Guide\n",
      "21-Day Meditation Experience\n",
      "365Scores - Live Scores\n",
      "420 BZ Budeze Delivery\n",
      "8 Ball Pool\n",
      "8fit Workouts & Meal Planner\n",
      "95Live -SG#1 Live Streaming App\n",
      "A Manual of Acupuncture\n"
     ]
    }
   ],
   "source": [
    "print('Number of google duplicate apps: ', len(duplicates))\n",
    "print('\\n')\n",
    "print('Exmaples of google duplicate apps: ')\n",
    "for each in sorted(duplicates.keys())[:10]:\n",
    "    print(each)\n"
   ]
  },
  {
   "cell_type": "code",
   "execution_count": 13,
   "metadata": {
    "collapsed": false
   },
   "outputs": [
    {
     "name": "stdout",
     "output_type": "stream",
     "text": [
      "Number of apple duplicate apps:  2\n",
      "\n",
      "\n",
      "Exmaples of apple duplicate apps: \n",
      "Mannequin Challenge\n",
      "VR Roller Coaster\n"
     ]
    }
   ],
   "source": [
    "print('Number of apple duplicate apps: ', len(apple_duplicates))\n",
    "print('\\n')\n",
    "print('Exmaples of apple duplicate apps: ')\n",
    "for each in sorted(apple_duplicates.keys())[:10]:\n",
    "    print(each)\n"
   ]
  },
  {
   "cell_type": "code",
   "execution_count": 14,
   "metadata": {
    "collapsed": false,
    "scrolled": true
   },
   "outputs": [
    {
     "name": "stdout",
     "output_type": "stream",
     "text": [
      "Total number of google rows duplicated 1979\n",
      "Total number of google rows to be deleted 1181\n",
      "Total number of googlerows to remain 9660\n"
     ]
    }
   ],
   "source": [
    "cnt = 0\n",
    "keys = duplicates.keys()\n",
    "for each in googleDS[1:]:\n",
    "    if each[0] in keys:\n",
    "        cnt +=1\n",
    "\n",
    "print('Total number of google rows duplicated',cnt)\n",
    "print('Total number of google rows to be deleted', cnt-len(duplicates))\n",
    "print('Total number of googlerows to remain', len(googleDS) - (cnt-len(duplicates)) -1) #-1 for header"
   ]
  },
  {
   "cell_type": "code",
   "execution_count": 15,
   "metadata": {
    "collapsed": false
   },
   "outputs": [
    {
     "name": "stdout",
     "output_type": "stream",
     "text": [
      "Total number of apple rows duplicated 0\n",
      "Total number of apple rows to be deleted -2\n",
      "Total number of apple rows to remain 7199\n"
     ]
    }
   ],
   "source": [
    "cnt = 0\n",
    "keys = apple_duplicates.keys()\n",
    "for each in appleDS[1:]:\n",
    "    if each[0] in keys:\n",
    "        cnt +=1\n",
    "\n",
    "print('Total number of apple rows duplicated',cnt)\n",
    "print('Total number of apple rows to be deleted', cnt-len(apple_duplicates))\n",
    "print('Total number of apple rows to remain', len(appleDS) - (cnt-len(apple_duplicates)) -1) #-1 for header"
   ]
  },
  {
   "cell_type": "code",
   "execution_count": 16,
   "metadata": {
    "collapsed": false
   },
   "outputs": [],
   "source": [
    "google_clean = []\n",
    "already_added = []\n",
    "\n",
    "for each in googleDS[1:]:\n",
    "    name = each[0]\n",
    "    n_reviews = float(each[2])\n",
    "    \n",
    "    if name not in already_added and name not in duplicates.keys():\n",
    "        google_clean.append(each)\n",
    "        already_added.append(name)\n",
    "    elif name not in already_added and name in duplicates.keys():\n",
    "        if n_reviews == duplicates[name]:\n",
    "            google_clean.append(each)\n",
    "            already_added.append(name)\n",
    "    "
   ]
  },
  {
   "cell_type": "code",
   "execution_count": 17,
   "metadata": {
    "collapsed": false
   },
   "outputs": [
    {
     "data": {
      "text/plain": [
       "8862"
      ]
     },
     "execution_count": 17,
     "metadata": {},
     "output_type": "execute_result"
    }
   ],
   "source": [
    "len(google_clean)"
   ]
  },
  {
   "cell_type": "code",
   "execution_count": 18,
   "metadata": {
    "collapsed": false
   },
   "outputs": [],
   "source": [
    "apple_clean = []\n",
    "apple_already_added = []\n",
    "\n",
    "for each in appleDS[1:]:\n",
    "    name = each[1]\n",
    "    n_reviews = float(each[5])\n",
    "    \n",
    "    if name not in apple_already_added and name not in apple_duplicates.keys():\n",
    "        apple_clean.append(each)\n",
    "        apple_already_added.append(name)\n",
    "    elif name not in apple_already_added and name in apple_duplicates.keys():\n",
    "        if n_reviews == apple_duplicates[name]:\n",
    "            apple_clean.append(each)\n",
    "            apple_already_added.append(name)"
   ]
  },
  {
   "cell_type": "markdown",
   "metadata": {},
   "source": [
    "### Focus on english market\n",
    "We are not interest in apps that are focused on non-english speaking markets so we will remove them from the app list."
   ]
  },
  {
   "cell_type": "code",
   "execution_count": 19,
   "metadata": {
    "collapsed": true
   },
   "outputs": [],
   "source": [
    "def engApp(appname):\n",
    "    counter = 0\n",
    "    for char in appname:\n",
    "        if ord(char) > 127:\n",
    "            counter += 1\n",
    "        if counter >= 4:\n",
    "            return False\n",
    "    return True"
   ]
  },
  {
   "cell_type": "code",
   "execution_count": 20,
   "metadata": {
    "collapsed": false
   },
   "outputs": [],
   "source": [
    "google_clean2 = []\n",
    "for items in google_clean:\n",
    "    if engApp(items[0]) == True:\n",
    "        google_clean2.append(items)"
   ]
  },
  {
   "cell_type": "code",
   "execution_count": 21,
   "metadata": {
    "collapsed": false
   },
   "outputs": [
    {
     "data": {
      "text/plain": [
       "8817"
      ]
     },
     "execution_count": 21,
     "metadata": {},
     "output_type": "execute_result"
    }
   ],
   "source": [
    "len(google_clean2)"
   ]
  },
  {
   "cell_type": "code",
   "execution_count": 22,
   "metadata": {
    "collapsed": true
   },
   "outputs": [],
   "source": [
    "apple_clean2 = []\n",
    "for items in appleDS:\n",
    "    if engApp(items[0]) == True:\n",
    "        apple_clean2.append(items)"
   ]
  },
  {
   "cell_type": "code",
   "execution_count": 23,
   "metadata": {
    "collapsed": false
   },
   "outputs": [
    {
     "data": {
      "text/plain": [
       "7198"
      ]
     },
     "execution_count": 23,
     "metadata": {},
     "output_type": "execute_result"
    }
   ],
   "source": [
    "len(apple_clean2)"
   ]
  },
  {
   "cell_type": "markdown",
   "metadata": {
    "collapsed": true
   },
   "source": [
    "## Remove paid for apps.\n",
    "We are only interested in free apps, as this is what our market competition is."
   ]
  },
  {
   "cell_type": "code",
   "execution_count": 24,
   "metadata": {
    "collapsed": false
   },
   "outputs": [],
   "source": [
    "google_final = []\n",
    "for item in google_clean2:\n",
    "    if item[6] == 'Free':\n",
    "        google_final.append(item)\n",
    "\n",
    "        apple_final = []\n",
    "for item in apple_clean2:\n",
    "    if item[4] == '0.0':\n",
    "        apple_final.append(item)"
   ]
  },
  {
   "cell_type": "code",
   "execution_count": 25,
   "metadata": {
    "collapsed": false
   },
   "outputs": [
    {
     "name": "stdout",
     "output_type": "stream",
     "text": [
      "8105 4056\n"
     ]
    }
   ],
   "source": [
    "print(len(google_final), len(apple_final))"
   ]
  },
  {
   "cell_type": "markdown",
   "metadata": {},
   "source": [
    "## Profiling the apps\n",
    "We are looking for apps which are successful in both apple store and goole play. We'll also break this down by genre to allow us to analyse the markets in each genre."
   ]
  },
  {
   "cell_type": "code",
   "execution_count": 26,
   "metadata": {
    "collapsed": false
   },
   "outputs": [
    {
     "data": {
      "text/plain": [
       "['Photo Editor & Candy Camera & Grid & ScrapBook',\n",
       " 'ART_AND_DESIGN',\n",
       " '4.1',\n",
       " '159',\n",
       " '19M',\n",
       " '10,000+',\n",
       " 'Free',\n",
       " '0',\n",
       " 'Everyone',\n",
       " 'Art & Design',\n",
       " 'January 7, 2018',\n",
       " '1.0.0',\n",
       " '4.0.3 and up']"
      ]
     },
     "execution_count": 26,
     "metadata": {},
     "output_type": "execute_result"
    }
   ],
   "source": [
    "google_final[0]"
   ]
  },
  {
   "cell_type": "code",
   "execution_count": 27,
   "metadata": {
    "collapsed": false
   },
   "outputs": [
    {
     "data": {
      "text/plain": [
       "['284882215',\n",
       " 'Facebook',\n",
       " '389879808',\n",
       " 'USD',\n",
       " '0.0',\n",
       " '2974676',\n",
       " '212',\n",
       " '3.5',\n",
       " '3.5',\n",
       " '95.0',\n",
       " '4+',\n",
       " 'Social Networking',\n",
       " '37',\n",
       " '1',\n",
       " '29',\n",
       " '1']"
      ]
     },
     "execution_count": 27,
     "metadata": {},
     "output_type": "execute_result"
    }
   ],
   "source": [
    "apple_final[0]"
   ]
  },
  {
   "cell_type": "code",
   "execution_count": 28,
   "metadata": {
    "collapsed": false
   },
   "outputs": [],
   "source": [
    "# Function to allow user to pass a list of lists to dataset, and column number \n",
    "# to the index value. function loops through lists and pulls out the values\n",
    "# based on the index, to put into a new local dictionary and returns it.\n",
    "\n",
    "def freq_table(dataset, index):\n",
    "    freq = {}\n",
    "    for each in dataset:\n",
    "        if each[index] in freq:\n",
    "            freq[each[index]] += 1\n",
    "        else:\n",
    "            freq[each[index]] = 1\n",
    "    \n",
    "    return freq\n",
    "\n",
    "def freq_table_percentage(dataset, index):\n",
    "    freq = {}\n",
    "    for each in dataset:\n",
    "        if each[index] in freq:\n",
    "            freq[each[index]] += 1\n",
    "        else:\n",
    "            freq[each[index]] = 1\n",
    "    \n",
    "    total = sum(freq.values())\n",
    "    for k, v in freq.items():\n",
    "        freq[k] = round((v/total) * 100,2)\n",
    "    \n",
    "    return freq\n"
   ]
  },
  {
   "cell_type": "code",
   "execution_count": 29,
   "metadata": {
    "collapsed": false
   },
   "outputs": [],
   "source": [
    "#apple_freq = freq_table_percentage(apple_final,11)\n",
    "apple_freq = freq_table(apple_final,11)"
   ]
  },
  {
   "cell_type": "code",
   "execution_count": 30,
   "metadata": {
    "collapsed": false
   },
   "outputs": [
    {
     "data": {
      "text/plain": [
       "{'Book': 66,\n",
       " 'Business': 20,\n",
       " 'Catalogs': 9,\n",
       " 'Education': 132,\n",
       " 'Entertainment': 334,\n",
       " 'Finance': 84,\n",
       " 'Food & Drink': 43,\n",
       " 'Games': 2257,\n",
       " 'Health & Fitness': 76,\n",
       " 'Lifestyle': 94,\n",
       " 'Medical': 8,\n",
       " 'Music': 67,\n",
       " 'Navigation': 20,\n",
       " 'News': 58,\n",
       " 'Photo & Video': 167,\n",
       " 'Productivity': 62,\n",
       " 'Reference': 20,\n",
       " 'Shopping': 121,\n",
       " 'Social Networking': 143,\n",
       " 'Sports': 79,\n",
       " 'Travel': 56,\n",
       " 'Utilities': 109,\n",
       " 'Weather': 31}"
      ]
     },
     "execution_count": 30,
     "metadata": {},
     "output_type": "execute_result"
    }
   ],
   "source": [
    "apple_freq"
   ]
  },
  {
   "cell_type": "code",
   "execution_count": 31,
   "metadata": {
    "collapsed": true
   },
   "outputs": [],
   "source": [
    "google_freq = freq_table_percentage(google_final,1)"
   ]
  },
  {
   "cell_type": "code",
   "execution_count": 32,
   "metadata": {
    "collapsed": false
   },
   "outputs": [
    {
     "data": {
      "text/plain": [
       "{'ART_AND_DESIGN': 0.69,\n",
       " 'AUTO_AND_VEHICLES': 1.01,\n",
       " 'BEAUTY': 0.65,\n",
       " 'BOOKS_AND_REFERENCE': 2.23,\n",
       " 'BUSINESS': 4.63,\n",
       " 'COMICS': 0.63,\n",
       " 'COMMUNICATION': 3.01,\n",
       " 'DATING': 1.38,\n",
       " 'EDUCATION': 1.0,\n",
       " 'ENTERTAINMENT': 0.7,\n",
       " 'EVENTS': 0.78,\n",
       " 'FAMILY': 19.7,\n",
       " 'FINANCE': 3.84,\n",
       " 'FOOD_AND_DRINK': 1.18,\n",
       " 'GAME': 9.48,\n",
       " 'HEALTH_AND_FITNESS': 2.86,\n",
       " 'HOUSE_AND_HOME': 0.75,\n",
       " 'LIBRARIES_AND_DEMO': 1.01,\n",
       " 'LIFESTYLE': 4.12,\n",
       " 'MAPS_AND_NAVIGATION': 1.46,\n",
       " 'MEDICAL': 3.41,\n",
       " 'NEWS_AND_MAGAZINES': 2.81,\n",
       " 'PARENTING': 0.72,\n",
       " 'PERSONALIZATION': 3.49,\n",
       " 'PHOTOGRAPHY': 2.79,\n",
       " 'PRODUCTIVITY': 3.85,\n",
       " 'SHOPPING': 2.01,\n",
       " 'SOCIAL': 2.43,\n",
       " 'SPORTS': 3.38,\n",
       " 'TOOLS': 9.07,\n",
       " 'TRAVEL_AND_LOCAL': 2.26,\n",
       " 'VIDEO_PLAYERS': 1.83,\n",
       " 'WEATHER': 0.84}"
      ]
     },
     "execution_count": 32,
     "metadata": {},
     "output_type": "execute_result"
    }
   ],
   "source": [
    "google_freq"
   ]
  },
  {
   "cell_type": "code",
   "execution_count": 33,
   "metadata": {
    "collapsed": true
   },
   "outputs": [],
   "source": [
    "def display_table(dataset, index):\n",
    "    table = freq_table(dataset, index)\n",
    "    table_display = []\n",
    "    for key in table:\n",
    "        key_val_as_tuple = (table[key], key)\n",
    "        table_display.append(key_val_as_tuple)\n",
    "\n",
    "    table_sorted = sorted(table_display, reverse = True)\n",
    "    for entry in table_sorted:\n",
    "        print(entry[1], ':', entry[0])"
   ]
  },
  {
   "cell_type": "code",
   "execution_count": 34,
   "metadata": {
    "collapsed": false
   },
   "outputs": [
    {
     "name": "stdout",
     "output_type": "stream",
     "text": [
      "Games : 2257\n",
      "Entertainment : 334\n",
      "Photo & Video : 167\n",
      "Social Networking : 143\n",
      "Education : 132\n",
      "Shopping : 121\n",
      "Utilities : 109\n",
      "Lifestyle : 94\n",
      "Finance : 84\n",
      "Sports : 79\n",
      "Health & Fitness : 76\n",
      "Music : 67\n",
      "Book : 66\n",
      "Productivity : 62\n",
      "News : 58\n",
      "Travel : 56\n",
      "Food & Drink : 43\n",
      "Weather : 31\n",
      "Reference : 20\n",
      "Navigation : 20\n",
      "Business : 20\n",
      "Catalogs : 9\n",
      "Medical : 8\n"
     ]
    }
   ],
   "source": [
    "t = display_table(apple_final,11)\n",
    "t"
   ]
  },
  {
   "cell_type": "code",
   "execution_count": 35,
   "metadata": {
    "collapsed": false
   },
   "outputs": [
    {
     "data": {
      "text/plain": [
       "{'Book': 66,\n",
       " 'Business': 20,\n",
       " 'Catalogs': 9,\n",
       " 'Education': 132,\n",
       " 'Entertainment': 334,\n",
       " 'Finance': 84,\n",
       " 'Food & Drink': 43,\n",
       " 'Games': 2257,\n",
       " 'Health & Fitness': 76,\n",
       " 'Lifestyle': 94,\n",
       " 'Medical': 8,\n",
       " 'Music': 67,\n",
       " 'Navigation': 20,\n",
       " 'News': 58,\n",
       " 'Photo & Video': 167,\n",
       " 'Productivity': 62,\n",
       " 'Reference': 20,\n",
       " 'Shopping': 121,\n",
       " 'Social Networking': 143,\n",
       " 'Sports': 79,\n",
       " 'Travel': 56,\n",
       " 'Utilities': 109,\n",
       " 'Weather': 31}"
      ]
     },
     "execution_count": 35,
     "metadata": {},
     "output_type": "execute_result"
    }
   ],
   "source": [
    "apple_freq"
   ]
  },
  {
   "cell_type": "markdown",
   "metadata": {
    "collapsed": true
   },
   "source": [
    "#### Prime_Genre analysis\n"
   ]
  },
  {
   "cell_type": "code",
   "execution_count": 36,
   "metadata": {
    "collapsed": false
   },
   "outputs": [
    {
     "name": "stdout",
     "output_type": "stream",
     "text": [
      "Games : 2257\n",
      "Entertainment : 334\n",
      "Photo & Video : 167\n",
      "Social Networking : 143\n",
      "Education : 132\n",
      "Shopping : 121\n",
      "Utilities : 109\n",
      "Lifestyle : 94\n",
      "Finance : 84\n",
      "Sports : 79\n",
      "Health & Fitness : 76\n",
      "Music : 67\n",
      "Book : 66\n",
      "Productivity : 62\n",
      "News : 58\n",
      "Travel : 56\n",
      "Food & Drink : 43\n",
      "Weather : 31\n",
      "Reference : 20\n",
      "Navigation : 20\n",
      "Business : 20\n",
      "Catalogs : 9\n",
      "Medical : 8\n"
     ]
    }
   ],
   "source": [
    "display_table(apple_final, 11)"
   ]
  },
  {
   "cell_type": "code",
   "execution_count": 37,
   "metadata": {
    "collapsed": false
   },
   "outputs": [
    {
     "name": "stdout",
     "output_type": "stream",
     "text": [
      "FAMILY : 1597\n",
      "GAME : 768\n",
      "TOOLS : 735\n",
      "BUSINESS : 375\n",
      "LIFESTYLE : 334\n",
      "PRODUCTIVITY : 312\n",
      "FINANCE : 311\n",
      "PERSONALIZATION : 283\n",
      "MEDICAL : 276\n",
      "SPORTS : 274\n",
      "COMMUNICATION : 244\n",
      "HEALTH_AND_FITNESS : 232\n",
      "NEWS_AND_MAGAZINES : 228\n",
      "PHOTOGRAPHY : 226\n",
      "SOCIAL : 197\n",
      "TRAVEL_AND_LOCAL : 183\n",
      "BOOKS_AND_REFERENCE : 181\n",
      "SHOPPING : 163\n",
      "VIDEO_PLAYERS : 148\n",
      "MAPS_AND_NAVIGATION : 118\n",
      "DATING : 112\n",
      "FOOD_AND_DRINK : 96\n",
      "LIBRARIES_AND_DEMO : 82\n",
      "AUTO_AND_VEHICLES : 82\n",
      "EDUCATION : 81\n",
      "WEATHER : 68\n",
      "EVENTS : 63\n",
      "HOUSE_AND_HOME : 61\n",
      "PARENTING : 58\n",
      "ENTERTAINMENT : 57\n",
      "ART_AND_DESIGN : 56\n",
      "BEAUTY : 53\n",
      "COMICS : 51\n"
     ]
    }
   ],
   "source": [
    "display_table(google_final,1) #11"
   ]
  },
  {
   "cell_type": "code",
   "execution_count": 38,
   "metadata": {
    "collapsed": false
   },
   "outputs": [
    {
     "name": "stdout",
     "output_type": "stream",
     "text": [
      "Tools : 734\n",
      "Entertainment : 500\n",
      "Education : 448\n",
      "Business : 375\n",
      "Lifestyle : 333\n",
      "Productivity : 312\n",
      "Finance : 311\n",
      "Personalization : 283\n",
      "Sports : 277\n",
      "Medical : 276\n",
      "Action : 246\n",
      "Communication : 244\n",
      "Health & Fitness : 232\n",
      "News & Magazines : 228\n",
      "Photography : 226\n",
      "Social : 197\n",
      "Travel & Local : 182\n",
      "Books & Reference : 181\n",
      "Simulation : 175\n",
      "Shopping : 163\n",
      "Video Players & Editors : 148\n",
      "Arcade : 147\n",
      "Casual : 144\n",
      "Maps & Navigation : 118\n",
      "Dating : 112\n",
      "Food & Drink : 96\n",
      "Puzzle : 88\n",
      "Racing : 83\n",
      "Libraries & Demo : 82\n",
      "Auto & Vehicles : 82\n",
      "Role Playing : 80\n",
      "Strategy : 75\n",
      "Weather : 68\n",
      "Events : 63\n",
      "House & Home : 61\n",
      "Adventure : 58\n",
      "Beauty : 53\n",
      "Art & Design : 52\n",
      "Comics : 50\n",
      "Parenting : 44\n",
      "Card : 39\n",
      "Casino : 38\n",
      "Trivia : 37\n",
      "Educational : 33\n",
      "Educational;Education : 32\n",
      "Board : 32\n",
      "Education;Education : 26\n",
      "Word : 21\n",
      "Music : 17\n",
      "Casual;Pretend Play : 17\n",
      "Puzzle;Brain Games : 14\n",
      "Racing;Action & Adventure : 11\n",
      "Casual;Brain Games : 11\n",
      "Entertainment;Music & Video : 10\n",
      "Arcade;Action & Adventure : 10\n",
      "Parenting;Education : 7\n",
      "Casual;Action & Adventure : 7\n",
      "Board;Brain Games : 7\n",
      "Action;Action & Adventure : 7\n",
      "Parenting;Music & Video : 6\n",
      "Entertainment;Brain Games : 6\n",
      "Educational;Brain Games : 6\n",
      "Casual;Creativity : 5\n",
      "Art & Design;Creativity : 5\n",
      "Simulation;Action & Adventure : 4\n",
      "Educational;Pretend Play : 4\n",
      "Role Playing;Pretend Play : 3\n",
      "Entertainment;Creativity : 3\n",
      "Entertainment;Action & Adventure : 3\n",
      "Educational;Creativity : 3\n",
      "Education;Pretend Play : 3\n",
      "Education;Creativity : 3\n",
      "Sports;Action & Adventure : 2\n",
      "Puzzle;Creativity : 2\n",
      "Puzzle;Action & Adventure : 2\n",
      "Music;Music & Video : 2\n",
      "Entertainment;Pretend Play : 2\n",
      "Educational;Action & Adventure : 2\n",
      "Education;Brain Games : 2\n",
      "Education;Action & Adventure : 2\n",
      "Casual;Education : 2\n",
      "Board;Action & Adventure : 2\n",
      "Adventure;Action & Adventure : 2\n",
      "Video Players & Editors;Music & Video : 1\n",
      "Trivia;Education : 1\n",
      "Travel & Local;Action & Adventure : 1\n",
      "Tools;Education : 1\n",
      "Strategy;Education : 1\n",
      "Strategy;Creativity : 1\n",
      "Strategy;Action & Adventure : 1\n",
      "Simulation;Pretend Play : 1\n",
      "Simulation;Education : 1\n",
      "Role Playing;Brain Games : 1\n",
      "Role Playing;Action & Adventure : 1\n",
      "Racing;Pretend Play : 1\n",
      "Puzzle;Education : 1\n",
      "Parenting;Brain Games : 1\n",
      "Music & Audio;Music & Video : 1\n",
      "Lifestyle;Pretend Play : 1\n",
      "Lifestyle;Education : 1\n",
      "Health & Fitness;Education : 1\n",
      "Health & Fitness;Action & Adventure : 1\n",
      "Entertainment;Education : 1\n",
      "Education;Music & Video : 1\n",
      "Communication;Creativity : 1\n",
      "Comics;Creativity : 1\n",
      "Card;Action & Adventure : 1\n",
      "Books & Reference;Education : 1\n",
      "Arcade;Pretend Play : 1\n"
     ]
    }
   ],
   "source": [
    "display_table(google_final,9)"
   ]
  },
  {
   "cell_type": "markdown",
   "metadata": {},
   "source": [
    "## Lets find out which genre is the most popular\n",
    "For Apple store this will need to be done by the total number of user ratings\n",
    "For Google play this will be done by the total number of downloads"
   ]
  },
  {
   "cell_type": "code",
   "execution_count": 39,
   "metadata": {
    "collapsed": false
   },
   "outputs": [],
   "source": [
    "# prime_genre = index 11\n",
    "cnt_of_apps_to_genre = freq_table(apple_final,11)"
   ]
  },
  {
   "cell_type": "code",
   "execution_count": 40,
   "metadata": {
    "collapsed": false
   },
   "outputs": [
    {
     "name": "stdout",
     "output_type": "stream",
     "text": [
      "Business  -  6367.8\n",
      "Catalogs  -  1779.56\n",
      "Education  -  6266.33\n",
      "Social Networking  -  53078.2\n",
      "Medical  -  459.75\n",
      "Entertainment  -  10822.96\n",
      "Finance  -  13522.26\n",
      "Health & Fitness  -  19952.32\n",
      "Utilities  -  14010.1\n",
      "Lifestyle  -  8978.31\n",
      "Weather  -  47220.94\n",
      "News  -  15892.72\n",
      "Reference  -  67447.9\n",
      "Music  -  56482.03\n",
      "Games  -  18924.69\n",
      "Food & Drink  -  20179.09\n",
      "Shopping  -  18746.68\n",
      "Book  -  8498.33\n",
      "Photo & Video  -  27249.89\n",
      "Travel  -  20216.02\n",
      "Productivity  -  19053.89\n",
      "Sports  -  20128.97\n",
      "Navigation  -  25972.05\n"
     ]
    }
   ],
   "source": [
    "for genre in cnt_of_apps_to_genre.keys():\n",
    "    total = 0\n",
    "    len_genre = 0\n",
    "    for each in apple_final:\n",
    "        if each[11] == genre:\n",
    "            total += float(each[5])\n",
    "            len_genre += 1\n",
    "    avg = round(total / len_genre, 2)\n",
    "    print(genre, ' - ', avg)"
   ]
  },
  {
   "cell_type": "code",
   "execution_count": 41,
   "metadata": {
    "collapsed": false
   },
   "outputs": [
    {
     "data": {
      "text/plain": [
       "['App',\n",
       " 'Category',\n",
       " 'Rating',\n",
       " 'Reviews',\n",
       " 'Size',\n",
       " 'Installs',\n",
       " 'Type',\n",
       " 'Price',\n",
       " 'Content Rating',\n",
       " 'Genres',\n",
       " 'Last Updated',\n",
       " 'Current Ver',\n",
       " 'Android Ver']"
      ]
     },
     "execution_count": 41,
     "metadata": {},
     "output_type": "execute_result"
    }
   ],
   "source": [
    "google_cols"
   ]
  },
  {
   "cell_type": "code",
   "execution_count": 48,
   "metadata": {
    "collapsed": false
   },
   "outputs": [],
   "source": [
    "google_genres = freq_table(google_final,1)"
   ]
  },
  {
   "cell_type": "code",
   "execution_count": 50,
   "metadata": {
    "collapsed": false
   },
   "outputs": [
    {
     "name": "stdout",
     "output_type": "stream",
     "text": [
      "GAME  -  7900871.68\n",
      "BUSINESS  -  1118272.24\n",
      "SHOPPING  -  3781218.31\n",
      "COMMUNICATION  -  3729123.77\n",
      "PRODUCTIVITY  -  5588555.49\n",
      "EDUCATION  -  1152469.14\n",
      "VIDEO_PLAYERS  -  14369808.92\n",
      "SOCIAL  -  2745491.89\n",
      "NEWS_AND_MAGAZINES  -  1254808.16\n",
      "DATING  -  436205.87\n",
      "PARENTING  -  542603.62\n",
      "LIBRARIES_AND_DEMO  -  524339.15\n",
      "HOUSE_AND_HOME  -  749220.67\n",
      "COMICS  -  664042.16\n",
      "FAMILY  -  2501813.21\n",
      "TOOLS  -  7006861.87\n",
      "MAPS_AND_NAVIGATION  -  2390345.59\n",
      "FINANCE  -  800203.0\n",
      "MEDICAL  -  90917.7\n",
      "PHOTOGRAPHY  -  9554286.79\n",
      "WEATHER  -  4342478.24\n",
      "TRAVEL_AND_LOCAL  -  2435541.45\n",
      "AUTO_AND_VEHICLES  -  647317.82\n",
      "BOOKS_AND_REFERENCE  -  7792178.23\n",
      "ENTERTAINMENT  -  8850175.44\n",
      "EVENTS  -  253542.22\n",
      "ART_AND_DESIGN  -  1843233.93\n",
      "LIFESTYLE  -  1388516.25\n",
      "SPORTS  -  3217265.27\n",
      "HEALTH_AND_FITNESS  -  3924993.11\n",
      "BEAUTY  -  513151.89\n",
      "FOOD_AND_DRINK  -  1610820.32\n",
      "PERSONALIZATION  -  3350656.85\n"
     ]
    }
   ],
   "source": [
    "for category in google_genres.keys():\n",
    "    total = 0\n",
    "    len_category = 0\n",
    "    for each in google_final:\n",
    "        if each[1] == category:\n",
    "            total += float((each[5].replace('+','').replace(',','')))\n",
    "            \n",
    "            len_category += 1\n",
    "    avg = round(total / len_category, 2)\n",
    "    print(category, ' - ', avg)"
   ]
  },
  {
   "cell_type": "code",
   "execution_count": null,
   "metadata": {
    "collapsed": true
   },
   "outputs": [],
   "source": []
  }
 ],
 "metadata": {
  "kernelspec": {
   "display_name": "Python 3",
   "language": "python",
   "name": "python3"
  },
  "language_info": {
   "codemirror_mode": {
    "name": "ipython",
    "version": 3
   },
   "file_extension": ".py",
   "mimetype": "text/x-python",
   "name": "python",
   "nbconvert_exporter": "python",
   "pygments_lexer": "ipython3",
   "version": "3.4.3"
  }
 },
 "nbformat": 4,
 "nbformat_minor": 2
}
